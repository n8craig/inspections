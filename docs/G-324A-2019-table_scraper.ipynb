{
 "cells": [
  {
   "cell_type": "markdown",
   "id": "c459ed54-011b-4dd8-8bf9-308f43557e2e",
   "metadata": {},
   "source": [
    "# Introduction\n",
    "\n",
    "This script uses the [tabula-py](https://github.com/chezou/tabula-py) library to extract tables from ICE Significant Incident Summary (form G-324A rev. 2019) forms. While these forms are created and were previously distributed as actual text, in February 2021 under the Biden administration, ICE under the direction of DHS Secretary Mayorkas and ICE Director Tae Johnson, ICE inexplicably began distributing these forms as a series of flattened .jpg files bound as a pdf. It is not clear what procedures were used to convert perfectly good text based pdf files into the equivelant of scanned images. However, doing so makes the files more difficult to properly analyze and the additional manipulation to the files by ICE introduces error for the analyst as additional transformations are requied to convert the files back into text.\n",
    "\n",
    "For this project, Adobe Acrobad DC was used to apply optical character recognition (OCR) to the ICE modified files. Once OCR was appled, the [Tabula](https://tabula.technology/) application GUI was used to create a table extraction template. This template, saved as a .json file was placed into the project's document directory while OCR'd pdfs were placed into a data directory. This script was then used to call the `tabula.read_pdf_with_template()` function to apply the template to each pdf contained in the data directory. Each pdf contains multiple tables, each of which is best broken down into smaller component parts to avoid regognition errors. In this case, there are six individual compoent tables several of which need to be merged manually by analysts. Python was instructed to create individual .csv files for each of the component tables defined in the tabula template file.\n",
    "\n",
    "# Additional Notes\n",
    "\n",
    "Initially, the code below was developed and run in RStudio as part of an R Markdown file as most of the project analysis takes place within R. However, debugging proved difficult as RStudio was not particuarly verbose with error reporting. Development of the script shifted to Jupyter, and forms this document. Some of the pdf files generated errors. The cause of this is still not identified, and it bears mention that these files also generate errors when the template is applied to the tabula GUI interface, but that creating extraction zones specific to the files seems to generate desired output. The problematic files will be processed individually by hand. Lastly, there is an R library for tabula called `tabulizer`. However, as of the development of this script it did not yet appear to incorporate the use of template files. Therefore, the decision was made to use tabula-py."
   ]
  },
  {
   "cell_type": "code",
   "execution_count": 2,
   "id": "4d0f6850-7e31-45a6-bf34-c85c51c7abb7",
   "metadata": {
    "execution": {
     "iopub.execute_input": "2021-06-28T12:35:03.960008Z",
     "iopub.status.busy": "2021-06-28T12:35:03.960008Z",
     "iopub.status.idle": "2021-06-28T12:35:21.567990Z",
     "shell.execute_reply": "2021-06-28T12:35:21.566987Z",
     "shell.execute_reply.started": "2021-06-28T12:35:03.960008Z"
    },
    "tags": []
   },
   "outputs": [],
   "source": [
    "# Import libraries\n",
    "import pandas as pd\n",
    "import tabula\n",
    "import os"
   ]
  },
  {
   "cell_type": "code",
   "execution_count": 32,
   "id": "b644f00b-d6ff-4a18-827d-ea2614c6a05f",
   "metadata": {
    "execution": {
     "iopub.execute_input": "2021-06-28T13:17:12.105874Z",
     "iopub.status.busy": "2021-06-28T13:17:12.105874Z",
     "iopub.status.idle": "2021-06-28T13:17:25.657873Z",
     "shell.execute_reply": "2021-06-28T13:17:25.657873Z",
     "shell.execute_reply.started": "2021-06-28T13:17:12.105874Z"
    },
    "tags": []
   },
   "outputs": [],
   "source": [
    "# get list of files in data directory, removing the file extension\n",
    "listdir =os.listdir(\"./data/\")\n",
    "filelist=[x.split('.')[0] for x in listdir]\n",
    "\n",
    "\n",
    "# process the pdf files in a for loop and write csv files for each table\n",
    "for file in filelist:\n",
    "\n",
    "    output = tabula.read_pdf_with_template(\n",
    "      input_path=\"./data/\" + file + \".pdf\",\n",
    "      template_path=\"./docs/templates/2021-SIS-v2.tabula-template.json\", \n",
    "      pandas_options= {\"header\":None})\n",
    "\n",
    "    #output_df = output[0].append(output[1])\n",
    "    output[0].to_csv(\"./data/\" + file + \"_A.csv\")\n",
    "    output[1].to_csv(\"./data/\" + file + \"_B.csv\")\n",
    "    output[2].to_csv(\"./data/\" + file + \"_C.csv\")\n",
    "    output[3].to_csv(\"./data/\" + file + \"_D.csv\")\n",
    "    output[4].to_csv(\"./data/\" + file + \"_E.csv\")\n",
    "    output[5].to_csv(\"./data/\" + file + \"_F.csv\")"
   ]
  }
 ],
 "metadata": {
  "kernelspec": {
   "display_name": "Python 3",
   "language": "python",
   "name": "python3"
  },
  "language_info": {
   "codemirror_mode": {
    "name": "ipython",
    "version": 3
   },
   "file_extension": ".py",
   "mimetype": "text/x-python",
   "name": "python",
   "nbconvert_exporter": "python",
   "pygments_lexer": "ipython3",
   "version": "3.8.8"
  }
 },
 "nbformat": 4,
 "nbformat_minor": 5
}
